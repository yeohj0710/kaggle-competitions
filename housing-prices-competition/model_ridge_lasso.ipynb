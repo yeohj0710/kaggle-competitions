{
 "cells": [
  {
   "cell_type": "code",
   "execution_count": null,
   "id": "54206e6e",
   "metadata": {},
   "outputs": [],
   "source": [
    "import pandas as pd\n",
    "import numpy as np\n",
    "from sklearn.linear_model import Ridge, Lasso\n",
    "from sklearn.model_selection import cross_val_score\n",
    "from sklearn.metrics import mean_squared_error"
   ]
  },
  {
   "cell_type": "code",
   "execution_count": null,
   "id": "842e73bc",
   "metadata": {},
   "outputs": [],
   "source": [
    "# 데이터 로드\n",
    "X_train = pd.read_csv(\"./data/X_train.csv\")\n",
    "X_test = pd.read_csv(\"./data/X_test.csv\")\n",
    "y_train = pd.read_csv(\"./data/y_train_log.csv\").values.ravel()"
   ]
  },
  {
   "cell_type": "code",
   "execution_count": null,
   "id": "5787d271",
   "metadata": {},
   "outputs": [
    {
     "name": "stdout",
     "output_type": "stream",
     "text": [
      "Ridge RMSE scores: [0.11564262 0.1493986  0.12971823 0.11727086 0.18656786]\n",
      "Average RMSE: 0.1397\n"
     ]
    }
   ],
   "source": [
    "ridge = Ridge(alpha=20)  # alpha는 정규화 강도, 실험 필요\n",
    "scores = cross_val_score(\n",
    "    ridge, X_train, y_train, scoring=\"neg_root_mean_squared_error\", cv=5\n",
    ")\n",
    "\n",
    "print(f\"Ridge RMSE scores: {-scores}\")\n",
    "print(f\"Average RMSE: {-scores.mean():.4f}\")\n",
    "\n",
    "ridge.fit(X_train, y_train)\n",
    "ridge_preds_log = ridge.predict(X_test)\n",
    "ridge_preds = np.expm1(ridge_preds_log)"
   ]
  },
  {
   "cell_type": "code",
   "execution_count": null,
   "id": "7ee19d7d",
   "metadata": {},
   "outputs": [
    {
     "name": "stdout",
     "output_type": "stream",
     "text": [
      "Lasso RMSE scores: [0.11053776 0.15071769 0.1253315  0.11420728 0.19331704]\n",
      "Average RMSE: 0.1388\n"
     ]
    }
   ],
   "source": [
    "lasso = Lasso(alpha=0.001)  # alpha 작게 안 하면 다 죽어버림\n",
    "scores = cross_val_score(\n",
    "    lasso, X_train, y_train, scoring=\"neg_root_mean_squared_error\", cv=5\n",
    ")\n",
    "\n",
    "print(f\"Lasso RMSE scores: {-scores}\")\n",
    "print(f\"Average RMSE: {-scores.mean():.4f}\")\n",
    "\n",
    "lasso.fit(X_train, y_train)\n",
    "lasso_preds_log = lasso.predict(X_test)\n",
    "lasso_preds = np.expm1(lasso_preds_log)"
   ]
  },
  {
   "cell_type": "code",
   "execution_count": null,
   "id": "9836c2bb",
   "metadata": {},
   "outputs": [
    {
     "data": {
      "text/html": [
       "<div>\n",
       "<style scoped>\n",
       "    .dataframe tbody tr th:only-of-type {\n",
       "        vertical-align: middle;\n",
       "    }\n",
       "\n",
       "    .dataframe tbody tr th {\n",
       "        vertical-align: top;\n",
       "    }\n",
       "\n",
       "    .dataframe thead th {\n",
       "        text-align: right;\n",
       "    }\n",
       "</style>\n",
       "<table border=\"1\" class=\"dataframe\">\n",
       "  <thead>\n",
       "    <tr style=\"text-align: right;\">\n",
       "      <th></th>\n",
       "      <th>Id</th>\n",
       "      <th>SalePrice</th>\n",
       "    </tr>\n",
       "  </thead>\n",
       "  <tbody>\n",
       "    <tr>\n",
       "      <th>0</th>\n",
       "      <td>1461</td>\n",
       "      <td>111919.921495</td>\n",
       "    </tr>\n",
       "    <tr>\n",
       "      <th>1</th>\n",
       "      <td>1462</td>\n",
       "      <td>146247.674875</td>\n",
       "    </tr>\n",
       "    <tr>\n",
       "      <th>2</th>\n",
       "      <td>1463</td>\n",
       "      <td>169121.556732</td>\n",
       "    </tr>\n",
       "    <tr>\n",
       "      <th>3</th>\n",
       "      <td>1464</td>\n",
       "      <td>194066.591001</td>\n",
       "    </tr>\n",
       "    <tr>\n",
       "      <th>4</th>\n",
       "      <td>1465</td>\n",
       "      <td>192005.118499</td>\n",
       "    </tr>\n",
       "  </tbody>\n",
       "</table>\n",
       "</div>"
      ],
      "text/plain": [
       "     Id      SalePrice\n",
       "0  1461  111919.921495\n",
       "1  1462  146247.674875\n",
       "2  1463  169121.556732\n",
       "3  1464  194066.591001\n",
       "4  1465  192005.118499"
      ]
     },
     "execution_count": 5,
     "metadata": {},
     "output_type": "execute_result"
    }
   ],
   "source": [
    "# Ridge 예측을 기준으로 제출\n",
    "test_origin = pd.read_csv(\"./data/test.csv\")\n",
    "submission = pd.DataFrame(\n",
    "    {\"Id\": test_origin[\"Id\"], \"SalePrice\": ridge_preds}  # 또는 lasso_preds\n",
    ")\n",
    "\n",
    "submission.to_csv(\"./submission/ridge_submission.csv\", index=False)\n",
    "submission.head()"
   ]
  },
  {
   "cell_type": "code",
   "execution_count": null,
   "id": "2123bebd",
   "metadata": {},
   "outputs": [
    {
     "data": {
      "text/html": [
       "<div>\n",
       "<style scoped>\n",
       "    .dataframe tbody tr th:only-of-type {\n",
       "        vertical-align: middle;\n",
       "    }\n",
       "\n",
       "    .dataframe tbody tr th {\n",
       "        vertical-align: top;\n",
       "    }\n",
       "\n",
       "    .dataframe thead th {\n",
       "        text-align: right;\n",
       "    }\n",
       "</style>\n",
       "<table border=\"1\" class=\"dataframe\">\n",
       "  <thead>\n",
       "    <tr style=\"text-align: right;\">\n",
       "      <th></th>\n",
       "      <th>Id</th>\n",
       "      <th>SalePrice</th>\n",
       "    </tr>\n",
       "  </thead>\n",
       "  <tbody>\n",
       "    <tr>\n",
       "      <th>0</th>\n",
       "      <td>1461</td>\n",
       "      <td>114135.376353</td>\n",
       "    </tr>\n",
       "    <tr>\n",
       "      <th>1</th>\n",
       "      <td>1462</td>\n",
       "      <td>137254.747225</td>\n",
       "    </tr>\n",
       "    <tr>\n",
       "      <th>2</th>\n",
       "      <td>1463</td>\n",
       "      <td>170372.633063</td>\n",
       "    </tr>\n",
       "    <tr>\n",
       "      <th>3</th>\n",
       "      <td>1464</td>\n",
       "      <td>199071.281587</td>\n",
       "    </tr>\n",
       "    <tr>\n",
       "      <th>4</th>\n",
       "      <td>1465</td>\n",
       "      <td>193759.164941</td>\n",
       "    </tr>\n",
       "  </tbody>\n",
       "</table>\n",
       "</div>"
      ],
      "text/plain": [
       "     Id      SalePrice\n",
       "0  1461  114135.376353\n",
       "1  1462  137254.747225\n",
       "2  1463  170372.633063\n",
       "3  1464  199071.281587\n",
       "4  1465  193759.164941"
      ]
     },
     "execution_count": 6,
     "metadata": {},
     "output_type": "execute_result"
    }
   ],
   "source": [
    "# lasso 예측을 기준으로 제출\n",
    "test_origin = pd.read_csv(\"./data/test.csv\")\n",
    "submission = pd.DataFrame(\n",
    "    {\"Id\": test_origin[\"Id\"], \"SalePrice\": lasso_preds}  # 또는 lasso_preds\n",
    ")\n",
    "\n",
    "submission.to_csv(\"./submission/lasso_submission.csv\", index=False)\n",
    "submission.head()"
   ]
  }
 ],
 "metadata": {
  "kernelspec": {
   "display_name": "Python 3",
   "language": "python",
   "name": "python3"
  },
  "language_info": {
   "codemirror_mode": {
    "name": "ipython",
    "version": 3
   },
   "file_extension": ".py",
   "mimetype": "text/x-python",
   "name": "python",
   "nbconvert_exporter": "python",
   "pygments_lexer": "ipython3",
   "version": "3.9.10"
  }
 },
 "nbformat": 4,
 "nbformat_minor": 5
}
