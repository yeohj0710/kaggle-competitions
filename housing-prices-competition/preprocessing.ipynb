{
 "cells": [
  {
   "cell_type": "code",
   "execution_count": 2,
   "id": "3a8fabd3",
   "metadata": {},
   "outputs": [
    {
     "name": "stdout",
     "output_type": "stream",
     "text": [
      "(2919, 80)\n"
     ]
    }
   ],
   "source": [
    "import pandas as pd\n",
    "import numpy as np\n",
    "\n",
    "train = pd.read_csv(\"./data/train.csv\")\n",
    "test = pd.read_csv(\"./data/test.csv\")\n",
    "\n",
    "# 타겟 분리\n",
    "y = train[\"SalePrice\"]\n",
    "train.drop(columns=[\"SalePrice\"], inplace=True)\n",
    "\n",
    "# train/test 합치기 (전처리 일괄 처리 위해)\n",
    "full = pd.concat([train, test], axis=0, ignore_index=True)\n",
    "print(full.shape)  # (2919, 80)"
   ]
  },
  {
   "cell_type": "code",
   "execution_count": 3,
   "id": "5f74b018",
   "metadata": {},
   "outputs": [],
   "source": [
    "full[\"LotFrontage\"] = full[\"LotFrontage\"].fillna(full[\"LotFrontage\"].median())\n",
    "full[\"GarageYrBlt\"] = full[\"GarageYrBlt\"].fillna(0)\n",
    "full[\"MasVnrArea\"] = full[\"MasVnrArea\"].fillna(0)"
   ]
  },
  {
   "cell_type": "code",
   "execution_count": 4,
   "id": "1986ec66",
   "metadata": {},
   "outputs": [],
   "source": [
    "fill_none = [\n",
    "    \"Alley\",\n",
    "    \"BsmtQual\",\n",
    "    \"BsmtCond\",\n",
    "    \"BsmtExposure\",\n",
    "    \"BsmtFinType1\",\n",
    "    \"BsmtFinType2\",\n",
    "    \"FireplaceQu\",\n",
    "    \"GarageType\",\n",
    "    \"GarageFinish\",\n",
    "    \"GarageQual\",\n",
    "    \"GarageCond\",\n",
    "    \"PoolQC\",\n",
    "    \"Fence\",\n",
    "    \"MiscFeature\",\n",
    "    \"MasVnrType\",\n",
    "]\n",
    "\n",
    "for col in fill_none:\n",
    "    full[col] = full[col].fillna(\"None\")\n",
    "\n",
    "# 최빈값으로 채울 변수\n",
    "fill_mode = [\n",
    "    \"Electrical\",\n",
    "    \"KitchenQual\",\n",
    "    \"Exterior1st\",\n",
    "    \"Exterior2nd\",\n",
    "    \"SaleType\",\n",
    "    \"MSZoning\",\n",
    "    \"Functional\",\n",
    "]\n",
    "\n",
    "for col in fill_mode:\n",
    "    full[col] = full[col].fillna(full[col].mode()[0])"
   ]
  },
  {
   "cell_type": "code",
   "execution_count": 5,
   "id": "ef51f182",
   "metadata": {},
   "outputs": [],
   "source": [
    "y_log = np.log1p(y)  # log(1 + y)"
   ]
  },
  {
   "cell_type": "code",
   "execution_count": 6,
   "id": "49b87a83",
   "metadata": {},
   "outputs": [
    {
     "name": "stdout",
     "output_type": "stream",
     "text": [
      "(2919, 303)\n"
     ]
    }
   ],
   "source": [
    "full = pd.get_dummies(full)  # 모든 object 타입 자동 인코딩\n",
    "print(full.shape)  # 차원 수 증가 확인"
   ]
  },
  {
   "cell_type": "code",
   "execution_count": 7,
   "id": "8c775189",
   "metadata": {},
   "outputs": [
    {
     "name": "stdout",
     "output_type": "stream",
     "text": [
      "결측치가 남아 있는 열들: ['BsmtFinSF1', 'BsmtFinSF2', 'BsmtUnfSF', 'TotalBsmtSF', 'BsmtFullBath', 'BsmtHalfBath', 'GarageCars', 'GarageArea']\n",
      "BsmtFinSF1      1\n",
      "BsmtFinSF2      1\n",
      "BsmtUnfSF       1\n",
      "TotalBsmtSF     1\n",
      "BsmtFullBath    2\n",
      "BsmtHalfBath    2\n",
      "GarageCars      1\n",
      "GarageArea      1\n",
      "dtype: int64\n"
     ]
    }
   ],
   "source": [
    "# full: train + test 합친 데이터프레임\n",
    "missing_cols = full.columns[full.isnull().any()]\n",
    "print(\"결측치가 남아 있는 열들:\", missing_cols.tolist())\n",
    "\n",
    "# 각 열별 결측치 개수 출력\n",
    "print(full[missing_cols].isnull().sum())"
   ]
  },
  {
   "cell_type": "code",
   "execution_count": null,
   "id": "6dc9c6bb",
   "metadata": {},
   "outputs": [],
   "source": [
    "cols_fill_zero = [\n",
    "    \"BsmtFinSF1\",\n",
    "    \"BsmtFinSF2\",\n",
    "    \"BsmtUnfSF\",\n",
    "    \"TotalBsmtSF\",\n",
    "    \"BsmtFullBath\",\n",
    "    \"BsmtHalfBath\",\n",
    "    \"GarageCars\",\n",
    "    \"GarageArea\",\n",
    "]\n",
    "\n",
    "for col in cols_fill_zero:\n",
    "    full[col] = full[col].fillna(0)"
   ]
  },
  {
   "cell_type": "code",
   "execution_count": null,
   "id": "4187554e",
   "metadata": {},
   "outputs": [],
   "source": [
    "X_train = full.iloc[: len(y), :]\n",
    "X_test = full.iloc[len(y) :, :]\n",
    "\n",
    "X_train.to_csv(\"./data/X_train.csv\", index=False)\n",
    "X_test.to_csv(\"./data/X_test.csv\", index=False)"
   ]
  }
 ],
 "metadata": {
  "kernelspec": {
   "display_name": "Python 3",
   "language": "python",
   "name": "python3"
  },
  "language_info": {
   "codemirror_mode": {
    "name": "ipython",
    "version": 3
   },
   "file_extension": ".py",
   "mimetype": "text/x-python",
   "name": "python",
   "nbconvert_exporter": "python",
   "pygments_lexer": "ipython3",
   "version": "3.9.10"
  }
 },
 "nbformat": 4,
 "nbformat_minor": 5
}
